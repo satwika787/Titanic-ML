{
 "cells": [
  {
   "cell_type": "code",
   "execution_count": 1,
   "id": "9c73fce8",
   "metadata": {
    "_cell_guid": "b1076dfc-b9ad-4769-8c92-a6c4dae69d19",
    "_uuid": "8f2839f25d086af736a60e9eeb907d3b93b6e0e5",
    "execution": {
     "iopub.execute_input": "2023-06-30T14:48:55.134844Z",
     "iopub.status.busy": "2023-06-30T14:48:55.134346Z",
     "iopub.status.idle": "2023-06-30T14:48:55.152416Z",
     "shell.execute_reply": "2023-06-30T14:48:55.151491Z"
    },
    "papermill": {
     "duration": 0.039759,
     "end_time": "2023-06-30T14:48:55.155656",
     "exception": false,
     "start_time": "2023-06-30T14:48:55.115897",
     "status": "completed"
    },
    "tags": []
   },
   "outputs": [
    {
     "name": "stdout",
     "output_type": "stream",
     "text": [
      "/kaggle/input/titanic/train.csv\n",
      "/kaggle/input/titanic/test.csv\n",
      "/kaggle/input/titanic/gender_submission.csv\n"
     ]
    }
   ],
   "source": [
    "# This Python 3 environment comes with many helpful analytics libraries installed\n",
    "# It is defined by the kaggle/python Docker image: https://github.com/kaggle/docker-python\n",
    "# For example, here's several helpful packages to load\n",
    "\n",
    "import numpy as np # linear algebra\n",
    "import pandas as pd # data processing, CSV file I/O (e.g. pd.read_csv)\n",
    "\n",
    "# Input data files are available in the read-only \"../input/\" directory\n",
    "# For example, running this (by clicking run or pressing Shift+Enter) will list all files under the input directory\n",
    "\n",
    "import os\n",
    "for dirname, _, filenames in os.walk('/kaggle/input'):\n",
    "    for filename in filenames:\n",
    "        print(os.path.join(dirname, filename))\n",
    "\n",
    "# You can write up to 20GB to the current directory (/kaggle/working/) that gets preserved as output when you create a version using \"Save & Run All\" \n",
    "# You can also write temporary files to /kaggle/temp/, but they won't be saved outside of the current session"
   ]
  },
  {
   "cell_type": "code",
   "execution_count": 2,
   "id": "769b6261",
   "metadata": {
    "execution": {
     "iopub.execute_input": "2023-06-30T14:48:55.188845Z",
     "iopub.status.busy": "2023-06-30T14:48:55.188227Z",
     "iopub.status.idle": "2023-06-30T14:48:57.677657Z",
     "shell.execute_reply": "2023-06-30T14:48:57.676074Z"
    },
    "papermill": {
     "duration": 2.510545,
     "end_time": "2023-06-30T14:48:57.681202",
     "exception": false,
     "start_time": "2023-06-30T14:48:55.170657",
     "status": "completed"
    },
    "tags": []
   },
   "outputs": [],
   "source": [
    "import pandas as pd\n",
    "import numpy as np\n",
    "import matplotlib.pyplot as plt\n",
    "import seaborn as sns\n",
    "from sklearn.model_selection import train_test_split\n",
    "from sklearn.linear_model import LogisticRegression\n",
    "from sklearn.metrics import accuracy_score"
   ]
  },
  {
   "cell_type": "code",
   "execution_count": 3,
   "id": "6ffa7623",
   "metadata": {
    "execution": {
     "iopub.execute_input": "2023-06-30T14:48:57.716461Z",
     "iopub.status.busy": "2023-06-30T14:48:57.714875Z",
     "iopub.status.idle": "2023-06-30T14:48:57.749313Z",
     "shell.execute_reply": "2023-06-30T14:48:57.747851Z"
    },
    "papermill": {
     "duration": 0.056086,
     "end_time": "2023-06-30T14:48:57.753083",
     "exception": false,
     "start_time": "2023-06-30T14:48:57.696997",
     "status": "completed"
    },
    "tags": []
   },
   "outputs": [],
   "source": [
    "train_data = pd.read_csv('/kaggle/input/titanic/train.csv')"
   ]
  },
  {
   "cell_type": "code",
   "execution_count": 4,
   "id": "36f3e545",
   "metadata": {
    "execution": {
     "iopub.execute_input": "2023-06-30T14:48:57.785488Z",
     "iopub.status.busy": "2023-06-30T14:48:57.785009Z",
     "iopub.status.idle": "2023-06-30T14:48:57.832627Z",
     "shell.execute_reply": "2023-06-30T14:48:57.831148Z"
    },
    "papermill": {
     "duration": 0.066952,
     "end_time": "2023-06-30T14:48:57.835488",
     "exception": false,
     "start_time": "2023-06-30T14:48:57.768536",
     "status": "completed"
    },
    "tags": []
   },
   "outputs": [
    {
     "data": {
      "text/html": [
       "<div>\n",
       "<style scoped>\n",
       "    .dataframe tbody tr th:only-of-type {\n",
       "        vertical-align: middle;\n",
       "    }\n",
       "\n",
       "    .dataframe tbody tr th {\n",
       "        vertical-align: top;\n",
       "    }\n",
       "\n",
       "    .dataframe thead th {\n",
       "        text-align: right;\n",
       "    }\n",
       "</style>\n",
       "<table border=\"1\" class=\"dataframe\">\n",
       "  <thead>\n",
       "    <tr style=\"text-align: right;\">\n",
       "      <th></th>\n",
       "      <th>PassengerId</th>\n",
       "      <th>Survived</th>\n",
       "      <th>Pclass</th>\n",
       "      <th>Name</th>\n",
       "      <th>Sex</th>\n",
       "      <th>Age</th>\n",
       "      <th>SibSp</th>\n",
       "      <th>Parch</th>\n",
       "      <th>Ticket</th>\n",
       "      <th>Fare</th>\n",
       "      <th>Cabin</th>\n",
       "      <th>Embarked</th>\n",
       "    </tr>\n",
       "  </thead>\n",
       "  <tbody>\n",
       "    <tr>\n",
       "      <th>0</th>\n",
       "      <td>1</td>\n",
       "      <td>0</td>\n",
       "      <td>3</td>\n",
       "      <td>Braund, Mr. Owen Harris</td>\n",
       "      <td>male</td>\n",
       "      <td>22.0</td>\n",
       "      <td>1</td>\n",
       "      <td>0</td>\n",
       "      <td>A/5 21171</td>\n",
       "      <td>7.2500</td>\n",
       "      <td>NaN</td>\n",
       "      <td>S</td>\n",
       "    </tr>\n",
       "    <tr>\n",
       "      <th>1</th>\n",
       "      <td>2</td>\n",
       "      <td>1</td>\n",
       "      <td>1</td>\n",
       "      <td>Cumings, Mrs. John Bradley (Florence Briggs Th...</td>\n",
       "      <td>female</td>\n",
       "      <td>38.0</td>\n",
       "      <td>1</td>\n",
       "      <td>0</td>\n",
       "      <td>PC 17599</td>\n",
       "      <td>71.2833</td>\n",
       "      <td>C85</td>\n",
       "      <td>C</td>\n",
       "    </tr>\n",
       "    <tr>\n",
       "      <th>2</th>\n",
       "      <td>3</td>\n",
       "      <td>1</td>\n",
       "      <td>3</td>\n",
       "      <td>Heikkinen, Miss. Laina</td>\n",
       "      <td>female</td>\n",
       "      <td>26.0</td>\n",
       "      <td>0</td>\n",
       "      <td>0</td>\n",
       "      <td>STON/O2. 3101282</td>\n",
       "      <td>7.9250</td>\n",
       "      <td>NaN</td>\n",
       "      <td>S</td>\n",
       "    </tr>\n",
       "    <tr>\n",
       "      <th>3</th>\n",
       "      <td>4</td>\n",
       "      <td>1</td>\n",
       "      <td>1</td>\n",
       "      <td>Futrelle, Mrs. Jacques Heath (Lily May Peel)</td>\n",
       "      <td>female</td>\n",
       "      <td>35.0</td>\n",
       "      <td>1</td>\n",
       "      <td>0</td>\n",
       "      <td>113803</td>\n",
       "      <td>53.1000</td>\n",
       "      <td>C123</td>\n",
       "      <td>S</td>\n",
       "    </tr>\n",
       "    <tr>\n",
       "      <th>4</th>\n",
       "      <td>5</td>\n",
       "      <td>0</td>\n",
       "      <td>3</td>\n",
       "      <td>Allen, Mr. William Henry</td>\n",
       "      <td>male</td>\n",
       "      <td>35.0</td>\n",
       "      <td>0</td>\n",
       "      <td>0</td>\n",
       "      <td>373450</td>\n",
       "      <td>8.0500</td>\n",
       "      <td>NaN</td>\n",
       "      <td>S</td>\n",
       "    </tr>\n",
       "  </tbody>\n",
       "</table>\n",
       "</div>"
      ],
      "text/plain": [
       "   PassengerId  Survived  Pclass  \\\n",
       "0            1         0       3   \n",
       "1            2         1       1   \n",
       "2            3         1       3   \n",
       "3            4         1       1   \n",
       "4            5         0       3   \n",
       "\n",
       "                                                Name     Sex   Age  SibSp  \\\n",
       "0                            Braund, Mr. Owen Harris    male  22.0      1   \n",
       "1  Cumings, Mrs. John Bradley (Florence Briggs Th...  female  38.0      1   \n",
       "2                             Heikkinen, Miss. Laina  female  26.0      0   \n",
       "3       Futrelle, Mrs. Jacques Heath (Lily May Peel)  female  35.0      1   \n",
       "4                           Allen, Mr. William Henry    male  35.0      0   \n",
       "\n",
       "   Parch            Ticket     Fare Cabin Embarked  \n",
       "0      0         A/5 21171   7.2500   NaN        S  \n",
       "1      0          PC 17599  71.2833   C85        C  \n",
       "2      0  STON/O2. 3101282   7.9250   NaN        S  \n",
       "3      0            113803  53.1000  C123        S  \n",
       "4      0            373450   8.0500   NaN        S  "
      ]
     },
     "execution_count": 4,
     "metadata": {},
     "output_type": "execute_result"
    }
   ],
   "source": [
    "train_data.head()"
   ]
  },
  {
   "cell_type": "code",
   "execution_count": 5,
   "id": "84137b30",
   "metadata": {
    "execution": {
     "iopub.execute_input": "2023-06-30T14:48:57.867039Z",
     "iopub.status.busy": "2023-06-30T14:48:57.865819Z",
     "iopub.status.idle": "2023-06-30T14:48:57.874440Z",
     "shell.execute_reply": "2023-06-30T14:48:57.873201Z"
    },
    "papermill": {
     "duration": 0.027093,
     "end_time": "2023-06-30T14:48:57.876934",
     "exception": false,
     "start_time": "2023-06-30T14:48:57.849841",
     "status": "completed"
    },
    "tags": []
   },
   "outputs": [
    {
     "data": {
      "text/plain": [
       "(891, 12)"
      ]
     },
     "execution_count": 5,
     "metadata": {},
     "output_type": "execute_result"
    }
   ],
   "source": [
    "train_data.shape"
   ]
  },
  {
   "cell_type": "code",
   "execution_count": 6,
   "id": "a1eae7aa",
   "metadata": {
    "execution": {
     "iopub.execute_input": "2023-06-30T14:48:57.908480Z",
     "iopub.status.busy": "2023-06-30T14:48:57.907574Z",
     "iopub.status.idle": "2023-06-30T14:48:57.943193Z",
     "shell.execute_reply": "2023-06-30T14:48:57.941010Z"
    },
    "papermill": {
     "duration": 0.054931,
     "end_time": "2023-06-30T14:48:57.946095",
     "exception": false,
     "start_time": "2023-06-30T14:48:57.891164",
     "status": "completed"
    },
    "tags": []
   },
   "outputs": [
    {
     "name": "stdout",
     "output_type": "stream",
     "text": [
      "<class 'pandas.core.frame.DataFrame'>\n",
      "RangeIndex: 891 entries, 0 to 890\n",
      "Data columns (total 12 columns):\n",
      " #   Column       Non-Null Count  Dtype  \n",
      "---  ------       --------------  -----  \n",
      " 0   PassengerId  891 non-null    int64  \n",
      " 1   Survived     891 non-null    int64  \n",
      " 2   Pclass       891 non-null    int64  \n",
      " 3   Name         891 non-null    object \n",
      " 4   Sex          891 non-null    object \n",
      " 5   Age          714 non-null    float64\n",
      " 6   SibSp        891 non-null    int64  \n",
      " 7   Parch        891 non-null    int64  \n",
      " 8   Ticket       891 non-null    object \n",
      " 9   Fare         891 non-null    float64\n",
      " 10  Cabin        204 non-null    object \n",
      " 11  Embarked     889 non-null    object \n",
      "dtypes: float64(2), int64(5), object(5)\n",
      "memory usage: 83.7+ KB\n"
     ]
    }
   ],
   "source": [
    "train_data.info()"
   ]
  },
  {
   "cell_type": "code",
   "execution_count": 7,
   "id": "8fd2c691",
   "metadata": {
    "execution": {
     "iopub.execute_input": "2023-06-30T14:48:57.977019Z",
     "iopub.status.busy": "2023-06-30T14:48:57.976630Z",
     "iopub.status.idle": "2023-06-30T14:48:57.989521Z",
     "shell.execute_reply": "2023-06-30T14:48:57.987976Z"
    },
    "papermill": {
     "duration": 0.03197,
     "end_time": "2023-06-30T14:48:57.992500",
     "exception": false,
     "start_time": "2023-06-30T14:48:57.960530",
     "status": "completed"
    },
    "tags": []
   },
   "outputs": [
    {
     "data": {
      "text/plain": [
       "PassengerId      0\n",
       "Survived         0\n",
       "Pclass           0\n",
       "Name             0\n",
       "Sex              0\n",
       "Age            177\n",
       "SibSp            0\n",
       "Parch            0\n",
       "Ticket           0\n",
       "Fare             0\n",
       "Cabin          687\n",
       "Embarked         2\n",
       "dtype: int64"
      ]
     },
     "execution_count": 7,
     "metadata": {},
     "output_type": "execute_result"
    }
   ],
   "source": [
    "train_data.isnull().sum()"
   ]
  },
  {
   "cell_type": "code",
   "execution_count": 8,
   "id": "a2911021",
   "metadata": {
    "execution": {
     "iopub.execute_input": "2023-06-30T14:48:58.026118Z",
     "iopub.status.busy": "2023-06-30T14:48:58.025581Z",
     "iopub.status.idle": "2023-06-30T14:48:58.035849Z",
     "shell.execute_reply": "2023-06-30T14:48:58.034034Z"
    },
    "papermill": {
     "duration": 0.030618,
     "end_time": "2023-06-30T14:48:58.039225",
     "exception": false,
     "start_time": "2023-06-30T14:48:58.008607",
     "status": "completed"
    },
    "tags": []
   },
   "outputs": [],
   "source": [
    "train_data = train_data.drop(columns = 'Cabin', axis=1)"
   ]
  },
  {
   "cell_type": "code",
   "execution_count": 9,
   "id": "98efde95",
   "metadata": {
    "execution": {
     "iopub.execute_input": "2023-06-30T14:48:58.074383Z",
     "iopub.status.busy": "2023-06-30T14:48:58.073975Z",
     "iopub.status.idle": "2023-06-30T14:48:58.081871Z",
     "shell.execute_reply": "2023-06-30T14:48:58.080335Z"
    },
    "papermill": {
     "duration": 0.029299,
     "end_time": "2023-06-30T14:48:58.084995",
     "exception": false,
     "start_time": "2023-06-30T14:48:58.055696",
     "status": "completed"
    },
    "tags": []
   },
   "outputs": [],
   "source": [
    "train_data['Age'].fillna(train_data['Age'].mean(), inplace=True)"
   ]
  },
  {
   "cell_type": "code",
   "execution_count": 10,
   "id": "ad5b7c30",
   "metadata": {
    "execution": {
     "iopub.execute_input": "2023-06-30T14:48:58.120689Z",
     "iopub.status.busy": "2023-06-30T14:48:58.120304Z",
     "iopub.status.idle": "2023-06-30T14:48:58.128606Z",
     "shell.execute_reply": "2023-06-30T14:48:58.127117Z"
    },
    "papermill": {
     "duration": 0.031406,
     "end_time": "2023-06-30T14:48:58.132784",
     "exception": false,
     "start_time": "2023-06-30T14:48:58.101378",
     "status": "completed"
    },
    "tags": []
   },
   "outputs": [
    {
     "name": "stdout",
     "output_type": "stream",
     "text": [
      "0    S\n",
      "Name: Embarked, dtype: object\n"
     ]
    }
   ],
   "source": [
    "print(train_data['Embarked'].mode())"
   ]
  },
  {
   "cell_type": "code",
   "execution_count": 11,
   "id": "8a32296d",
   "metadata": {
    "execution": {
     "iopub.execute_input": "2023-06-30T14:48:58.167607Z",
     "iopub.status.busy": "2023-06-30T14:48:58.167202Z",
     "iopub.status.idle": "2023-06-30T14:48:58.174623Z",
     "shell.execute_reply": "2023-06-30T14:48:58.173121Z"
    },
    "papermill": {
     "duration": 0.028468,
     "end_time": "2023-06-30T14:48:58.178109",
     "exception": false,
     "start_time": "2023-06-30T14:48:58.149641",
     "status": "completed"
    },
    "tags": []
   },
   "outputs": [
    {
     "name": "stdout",
     "output_type": "stream",
     "text": [
      "S\n"
     ]
    }
   ],
   "source": [
    "print(train_data['Embarked'].mode()[0])"
   ]
  },
  {
   "cell_type": "code",
   "execution_count": 12,
   "id": "e2b12d5a",
   "metadata": {
    "execution": {
     "iopub.execute_input": "2023-06-30T14:48:58.217516Z",
     "iopub.status.busy": "2023-06-30T14:48:58.216801Z",
     "iopub.status.idle": "2023-06-30T14:48:58.225430Z",
     "shell.execute_reply": "2023-06-30T14:48:58.223944Z"
    },
    "papermill": {
     "duration": 0.034259,
     "end_time": "2023-06-30T14:48:58.229677",
     "exception": false,
     "start_time": "2023-06-30T14:48:58.195418",
     "status": "completed"
    },
    "tags": []
   },
   "outputs": [],
   "source": [
    "train_data['Embarked'].fillna(train_data['Embarked'].mode()[0], inplace=True)"
   ]
  },
  {
   "cell_type": "code",
   "execution_count": 13,
   "id": "b1c0e297",
   "metadata": {
    "execution": {
     "iopub.execute_input": "2023-06-30T14:48:58.262146Z",
     "iopub.status.busy": "2023-06-30T14:48:58.261700Z",
     "iopub.status.idle": "2023-06-30T14:48:58.273862Z",
     "shell.execute_reply": "2023-06-30T14:48:58.272439Z"
    },
    "papermill": {
     "duration": 0.031334,
     "end_time": "2023-06-30T14:48:58.276526",
     "exception": false,
     "start_time": "2023-06-30T14:48:58.245192",
     "status": "completed"
    },
    "tags": []
   },
   "outputs": [
    {
     "data": {
      "text/plain": [
       "PassengerId    0\n",
       "Survived       0\n",
       "Pclass         0\n",
       "Name           0\n",
       "Sex            0\n",
       "Age            0\n",
       "SibSp          0\n",
       "Parch          0\n",
       "Ticket         0\n",
       "Fare           0\n",
       "Embarked       0\n",
       "dtype: int64"
      ]
     },
     "execution_count": 13,
     "metadata": {},
     "output_type": "execute_result"
    }
   ],
   "source": [
    "train_data.isnull().sum()"
   ]
  },
  {
   "cell_type": "code",
   "execution_count": 14,
   "id": "10bec7b2",
   "metadata": {
    "execution": {
     "iopub.execute_input": "2023-06-30T14:48:58.310142Z",
     "iopub.status.busy": "2023-06-30T14:48:58.308635Z",
     "iopub.status.idle": "2023-06-30T14:48:58.370569Z",
     "shell.execute_reply": "2023-06-30T14:48:58.369209Z"
    },
    "papermill": {
     "duration": 0.082928,
     "end_time": "2023-06-30T14:48:58.374424",
     "exception": false,
     "start_time": "2023-06-30T14:48:58.291496",
     "status": "completed"
    },
    "tags": []
   },
   "outputs": [
    {
     "data": {
      "text/html": [
       "<div>\n",
       "<style scoped>\n",
       "    .dataframe tbody tr th:only-of-type {\n",
       "        vertical-align: middle;\n",
       "    }\n",
       "\n",
       "    .dataframe tbody tr th {\n",
       "        vertical-align: top;\n",
       "    }\n",
       "\n",
       "    .dataframe thead th {\n",
       "        text-align: right;\n",
       "    }\n",
       "</style>\n",
       "<table border=\"1\" class=\"dataframe\">\n",
       "  <thead>\n",
       "    <tr style=\"text-align: right;\">\n",
       "      <th></th>\n",
       "      <th>PassengerId</th>\n",
       "      <th>Survived</th>\n",
       "      <th>Pclass</th>\n",
       "      <th>Age</th>\n",
       "      <th>SibSp</th>\n",
       "      <th>Parch</th>\n",
       "      <th>Fare</th>\n",
       "    </tr>\n",
       "  </thead>\n",
       "  <tbody>\n",
       "    <tr>\n",
       "      <th>count</th>\n",
       "      <td>891.000000</td>\n",
       "      <td>891.000000</td>\n",
       "      <td>891.000000</td>\n",
       "      <td>891.000000</td>\n",
       "      <td>891.000000</td>\n",
       "      <td>891.000000</td>\n",
       "      <td>891.000000</td>\n",
       "    </tr>\n",
       "    <tr>\n",
       "      <th>mean</th>\n",
       "      <td>446.000000</td>\n",
       "      <td>0.383838</td>\n",
       "      <td>2.308642</td>\n",
       "      <td>29.699118</td>\n",
       "      <td>0.523008</td>\n",
       "      <td>0.381594</td>\n",
       "      <td>32.204208</td>\n",
       "    </tr>\n",
       "    <tr>\n",
       "      <th>std</th>\n",
       "      <td>257.353842</td>\n",
       "      <td>0.486592</td>\n",
       "      <td>0.836071</td>\n",
       "      <td>13.002015</td>\n",
       "      <td>1.102743</td>\n",
       "      <td>0.806057</td>\n",
       "      <td>49.693429</td>\n",
       "    </tr>\n",
       "    <tr>\n",
       "      <th>min</th>\n",
       "      <td>1.000000</td>\n",
       "      <td>0.000000</td>\n",
       "      <td>1.000000</td>\n",
       "      <td>0.420000</td>\n",
       "      <td>0.000000</td>\n",
       "      <td>0.000000</td>\n",
       "      <td>0.000000</td>\n",
       "    </tr>\n",
       "    <tr>\n",
       "      <th>25%</th>\n",
       "      <td>223.500000</td>\n",
       "      <td>0.000000</td>\n",
       "      <td>2.000000</td>\n",
       "      <td>22.000000</td>\n",
       "      <td>0.000000</td>\n",
       "      <td>0.000000</td>\n",
       "      <td>7.910400</td>\n",
       "    </tr>\n",
       "    <tr>\n",
       "      <th>50%</th>\n",
       "      <td>446.000000</td>\n",
       "      <td>0.000000</td>\n",
       "      <td>3.000000</td>\n",
       "      <td>29.699118</td>\n",
       "      <td>0.000000</td>\n",
       "      <td>0.000000</td>\n",
       "      <td>14.454200</td>\n",
       "    </tr>\n",
       "    <tr>\n",
       "      <th>75%</th>\n",
       "      <td>668.500000</td>\n",
       "      <td>1.000000</td>\n",
       "      <td>3.000000</td>\n",
       "      <td>35.000000</td>\n",
       "      <td>1.000000</td>\n",
       "      <td>0.000000</td>\n",
       "      <td>31.000000</td>\n",
       "    </tr>\n",
       "    <tr>\n",
       "      <th>max</th>\n",
       "      <td>891.000000</td>\n",
       "      <td>1.000000</td>\n",
       "      <td>3.000000</td>\n",
       "      <td>80.000000</td>\n",
       "      <td>8.000000</td>\n",
       "      <td>6.000000</td>\n",
       "      <td>512.329200</td>\n",
       "    </tr>\n",
       "  </tbody>\n",
       "</table>\n",
       "</div>"
      ],
      "text/plain": [
       "       PassengerId    Survived      Pclass         Age       SibSp  \\\n",
       "count   891.000000  891.000000  891.000000  891.000000  891.000000   \n",
       "mean    446.000000    0.383838    2.308642   29.699118    0.523008   \n",
       "std     257.353842    0.486592    0.836071   13.002015    1.102743   \n",
       "min       1.000000    0.000000    1.000000    0.420000    0.000000   \n",
       "25%     223.500000    0.000000    2.000000   22.000000    0.000000   \n",
       "50%     446.000000    0.000000    3.000000   29.699118    0.000000   \n",
       "75%     668.500000    1.000000    3.000000   35.000000    1.000000   \n",
       "max     891.000000    1.000000    3.000000   80.000000    8.000000   \n",
       "\n",
       "            Parch        Fare  \n",
       "count  891.000000  891.000000  \n",
       "mean     0.381594   32.204208  \n",
       "std      0.806057   49.693429  \n",
       "min      0.000000    0.000000  \n",
       "25%      0.000000    7.910400  \n",
       "50%      0.000000   14.454200  \n",
       "75%      0.000000   31.000000  \n",
       "max      6.000000  512.329200  "
      ]
     },
     "execution_count": 14,
     "metadata": {},
     "output_type": "execute_result"
    }
   ],
   "source": [
    "train_data.describe()"
   ]
  },
  {
   "cell_type": "code",
   "execution_count": 15,
   "id": "1b0a5007",
   "metadata": {
    "execution": {
     "iopub.execute_input": "2023-06-30T14:48:58.411485Z",
     "iopub.status.busy": "2023-06-30T14:48:58.410020Z",
     "iopub.status.idle": "2023-06-30T14:48:58.423271Z",
     "shell.execute_reply": "2023-06-30T14:48:58.420939Z"
    },
    "papermill": {
     "duration": 0.036012,
     "end_time": "2023-06-30T14:48:58.426619",
     "exception": false,
     "start_time": "2023-06-30T14:48:58.390607",
     "status": "completed"
    },
    "tags": []
   },
   "outputs": [
    {
     "data": {
      "text/plain": [
       "0    549\n",
       "1    342\n",
       "Name: Survived, dtype: int64"
      ]
     },
     "execution_count": 15,
     "metadata": {},
     "output_type": "execute_result"
    }
   ],
   "source": [
    "train_data['Survived'].value_counts()"
   ]
  },
  {
   "cell_type": "code",
   "execution_count": 16,
   "id": "f2fd9eb1",
   "metadata": {
    "execution": {
     "iopub.execute_input": "2023-06-30T14:48:58.467599Z",
     "iopub.status.busy": "2023-06-30T14:48:58.464261Z",
     "iopub.status.idle": "2023-06-30T14:48:58.474251Z",
     "shell.execute_reply": "2023-06-30T14:48:58.472976Z"
    },
    "papermill": {
     "duration": 0.034336,
     "end_time": "2023-06-30T14:48:58.477523",
     "exception": false,
     "start_time": "2023-06-30T14:48:58.443187",
     "status": "completed"
    },
    "tags": []
   },
   "outputs": [],
   "source": [
    "sns.set()"
   ]
  },
  {
   "cell_type": "code",
   "execution_count": 17,
   "id": "4088b6b8",
   "metadata": {
    "execution": {
     "iopub.execute_input": "2023-06-30T14:48:58.518575Z",
     "iopub.status.busy": "2023-06-30T14:48:58.516950Z",
     "iopub.status.idle": "2023-06-30T14:48:58.915804Z",
     "shell.execute_reply": "2023-06-30T14:48:58.914539Z"
    },
    "papermill": {
     "duration": 0.422201,
     "end_time": "2023-06-30T14:48:58.921182",
     "exception": false,
     "start_time": "2023-06-30T14:48:58.498981",
     "status": "completed"
    },
    "tags": []
   },
   "outputs": [
    {
     "data": {
      "text/plain": [
       "<Axes: xlabel='Survived', ylabel='count'>"
      ]
     },
     "execution_count": 17,
     "metadata": {},
     "output_type": "execute_result"
    },
    {
     "data": {
      "image/png": "[encoded data removed]",
      "text/plain": [
       "<Figure size 640x480 with 1 Axes>"
      ]
     },
     "metadata": {},
     "output_type": "display_data"
    }
   ],
   "source": [
    "sns.countplot(x='Survived',data=train_data )"
   ]
  },
  {
   "cell_type": "code",
   "execution_count": 18,
   "id": "ecf7691a",
   "metadata": {
    "execution": {
     "iopub.execute_input": "2023-06-30T14:48:58.956543Z",
     "iopub.status.busy": "2023-06-30T14:48:58.956097Z",
     "iopub.status.idle": "2023-06-30T14:48:59.241812Z",
     "shell.execute_reply": "2023-06-30T14:48:59.240642Z"
    },
    "papermill": {
     "duration": 0.30746,
     "end_time": "2023-06-30T14:48:59.245784",
     "exception": false,
     "start_time": "2023-06-30T14:48:58.938324",
     "status": "completed"
    },
    "tags": []
   },
   "outputs": [
    {
     "data": {
      "text/plain": [
       "<Axes: xlabel='Sex', ylabel='count'>"
      ]
     },
     "execution_count": 18,
     "metadata": {},
     "output_type": "execute_result"
    },
    {
     "data": {
      "image/png": "[encoded data removed]",
      "text/plain": [
       "<Figure size 640x480 with 1 Axes>"
      ]
     },
     "metadata": {},
     "output_type": "display_data"
    }
   ],
   "source": [
    "sns.countplot(x='Sex',data=train_data )"
   ]
  },
  {
   "cell_type": "code",
   "execution_count": 19,
   "id": "bb245ab5",
   "metadata": {
    "execution": {
     "iopub.execute_input": "2023-06-30T14:48:59.286246Z",
     "iopub.status.busy": "2023-06-30T14:48:59.284673Z",
     "iopub.status.idle": "2023-06-30T14:48:59.646619Z",
     "shell.execute_reply": "2023-06-30T14:48:59.644941Z"
    },
    "papermill": {
     "duration": 0.385007,
     "end_time": "2023-06-30T14:48:59.649616",
     "exception": false,
     "start_time": "2023-06-30T14:48:59.264609",
     "status": "completed"
    },
    "tags": []
   },
   "outputs": [
    {
     "data": {
      "text/plain": [
       "<Axes: xlabel='Sex', ylabel='count'>"
      ]
     },
     "execution_count": 19,
     "metadata": {},
     "output_type": "execute_result"
    },
    {
     "data": {
      "image/png": "[encoded data removed]",
      "text/plain": [
       "<Figure size 640x480 with 1 Axes>"
      ]
     },
     "metadata": {},
     "output_type": "display_data"
    }
   ],
   "source": [
    "sns.countplot(x='Sex', hue='Survived', data=train_data)"
   ]
  },
  {
   "cell_type": "code",
   "execution_count": 20,
   "id": "879636a6",
   "metadata": {
    "execution": {
     "iopub.execute_input": "2023-06-30T14:48:59.686739Z",
     "iopub.status.busy": "2023-06-30T14:48:59.686267Z",
     "iopub.status.idle": "2023-06-30T14:48:59.697956Z",
     "shell.execute_reply": "2023-06-30T14:48:59.696561Z"
    },
    "papermill": {
     "duration": 0.034269,
     "end_time": "2023-06-30T14:48:59.701515",
     "exception": false,
     "start_time": "2023-06-30T14:48:59.667246",
     "status": "completed"
    },
    "tags": []
   },
   "outputs": [
    {
     "name": "stdout",
     "output_type": "stream",
     "text": [
      "% of women who survived: 0.7420382165605095\n"
     ]
    }
   ],
   "source": [
    "women = train_data.loc[train_data.Sex == 'female'][\"Survived\"]\n",
    "rate_women = sum(women)/len(women)\n",
    "\n",
    "print(\"% of women who survived:\", rate_women)"
   ]
  },
  {
   "cell_type": "code",
   "execution_count": 21,
   "id": "97ea6f4f",
   "metadata": {
    "execution": {
     "iopub.execute_input": "2023-06-30T14:48:59.740927Z",
     "iopub.status.busy": "2023-06-30T14:48:59.739774Z",
     "iopub.status.idle": "2023-06-30T14:48:59.752147Z",
     "shell.execute_reply": "2023-06-30T14:48:59.750458Z"
    },
    "papermill": {
     "duration": 0.035982,
     "end_time": "2023-06-30T14:48:59.755243",
     "exception": false,
     "start_time": "2023-06-30T14:48:59.719261",
     "status": "completed"
    },
    "tags": []
   },
   "outputs": [
    {
     "name": "stdout",
     "output_type": "stream",
     "text": [
      "% of men who survived: 0.18890814558058924\n"
     ]
    }
   ],
   "source": [
    "men = train_data.loc[train_data.Sex == 'male'][\"Survived\"]\n",
    "rate_men = sum(men)/len(men)\n",
    "\n",
    "print(\"% of men who survived:\", rate_men)"
   ]
  },
  {
   "cell_type": "code",
   "execution_count": 22,
   "id": "f09bbd93",
   "metadata": {
    "execution": {
     "iopub.execute_input": "2023-06-30T14:48:59.794592Z",
     "iopub.status.busy": "2023-06-30T14:48:59.792904Z",
     "iopub.status.idle": "2023-06-30T14:48:59.804133Z",
     "shell.execute_reply": "2023-06-30T14:48:59.802687Z"
    },
    "papermill": {
     "duration": 0.033657,
     "end_time": "2023-06-30T14:48:59.806680",
     "exception": false,
     "start_time": "2023-06-30T14:48:59.773023",
     "status": "completed"
    },
    "tags": []
   },
   "outputs": [
    {
     "data": {
      "text/plain": [
       "male      577\n",
       "female    314\n",
       "Name: Sex, dtype: int64"
      ]
     },
     "execution_count": 22,
     "metadata": {},
     "output_type": "execute_result"
    }
   ],
   "source": [
    "train_data['Sex'].value_counts()"
   ]
  },
  {
   "cell_type": "code",
   "execution_count": 23,
   "id": "4fbc931c",
   "metadata": {
    "execution": {
     "iopub.execute_input": "2023-06-30T14:48:59.844231Z",
     "iopub.status.busy": "2023-06-30T14:48:59.843579Z",
     "iopub.status.idle": "2023-06-30T14:48:59.854665Z",
     "shell.execute_reply": "2023-06-30T14:48:59.853223Z"
    },
    "papermill": {
     "duration": 0.032942,
     "end_time": "2023-06-30T14:48:59.857282",
     "exception": false,
     "start_time": "2023-06-30T14:48:59.824340",
     "status": "completed"
    },
    "tags": []
   },
   "outputs": [
    {
     "data": {
      "text/plain": [
       "S    646\n",
       "C    168\n",
       "Q     77\n",
       "Name: Embarked, dtype: int64"
      ]
     },
     "execution_count": 23,
     "metadata": {},
     "output_type": "execute_result"
    }
   ],
   "source": [
    "train_data['Embarked'].value_counts()"
   ]
  },
  {
   "cell_type": "code",
   "execution_count": 24,
   "id": "92afb7d2",
   "metadata": {
    "execution": {
     "iopub.execute_input": "2023-06-30T14:48:59.894965Z",
     "iopub.status.busy": "2023-06-30T14:48:59.894293Z",
     "iopub.status.idle": "2023-06-30T14:48:59.904279Z",
     "shell.execute_reply": "2023-06-30T14:48:59.903394Z"
    },
    "papermill": {
     "duration": 0.031575,
     "end_time": "2023-06-30T14:48:59.906756",
     "exception": false,
     "start_time": "2023-06-30T14:48:59.875181",
     "status": "completed"
    },
    "tags": []
   },
   "outputs": [],
   "source": [
    "train_data.replace({'Sex':{'male':0,'female':1}, 'Embarked':{'S':0,'C':1,'Q':2}}, inplace=True)"
   ]
  },
  {
   "cell_type": "code",
   "execution_count": 25,
   "id": "ee41bef6",
   "metadata": {
    "execution": {
     "iopub.execute_input": "2023-06-30T14:48:59.943617Z",
     "iopub.status.busy": "2023-06-30T14:48:59.942950Z",
     "iopub.status.idle": "2023-06-30T14:48:59.960614Z",
     "shell.execute_reply": "2023-06-30T14:48:59.958823Z"
    },
    "papermill": {
     "duration": 0.039942,
     "end_time": "2023-06-30T14:48:59.964134",
     "exception": false,
     "start_time": "2023-06-30T14:48:59.924192",
     "status": "completed"
    },
    "tags": []
   },
   "outputs": [
    {
     "data": {
      "text/html": [
       "<div>\n",
       "<style scoped>\n",
       "    .dataframe tbody tr th:only-of-type {\n",
       "        vertical-align: middle;\n",
       "    }\n",
       "\n",
       "    .dataframe tbody tr th {\n",
       "        vertical-align: top;\n",
       "    }\n",
       "\n",
       "    .dataframe thead th {\n",
       "        text-align: right;\n",
       "    }\n",
       "</style>\n",
       "<table border=\"1\" class=\"dataframe\">\n",
       "  <thead>\n",
       "    <tr style=\"text-align: right;\">\n",
       "      <th></th>\n",
       "      <th>PassengerId</th>\n",
       "      <th>Survived</th>\n",
       "      <th>Pclass</th>\n",
       "      <th>Name</th>\n",
       "      <th>Sex</th>\n",
       "      <th>Age</th>\n",
       "      <th>SibSp</th>\n",
       "      <th>Parch</th>\n",
       "      <th>Ticket</th>\n",
       "      <th>Fare</th>\n",
       "      <th>Embarked</th>\n",
       "    </tr>\n",
       "  </thead>\n",
       "  <tbody>\n",
       "    <tr>\n",
       "      <th>0</th>\n",
       "      <td>1</td>\n",
       "      <td>0</td>\n",
       "      <td>3</td>\n",
       "      <td>Braund, Mr. Owen Harris</td>\n",
       "      <td>0</td>\n",
       "      <td>22.0</td>\n",
       "      <td>1</td>\n",
       "      <td>0</td>\n",
       "      <td>A/5 21171</td>\n",
       "      <td>7.2500</td>\n",
       "      <td>0</td>\n",
       "    </tr>\n",
       "    <tr>\n",
       "      <th>1</th>\n",
       "      <td>2</td>\n",
       "      <td>1</td>\n",
       "      <td>1</td>\n",
       "      <td>Cumings, Mrs. John Bradley (Florence Briggs Th...</td>\n",
       "      <td>1</td>\n",
       "      <td>38.0</td>\n",
       "      <td>1</td>\n",
       "      <td>0</td>\n",
       "      <td>PC 17599</td>\n",
       "      <td>71.2833</td>\n",
       "      <td>1</td>\n",
       "    </tr>\n",
       "    <tr>\n",
       "      <th>2</th>\n",
       "      <td>3</td>\n",
       "      <td>1</td>\n",
       "      <td>3</td>\n",
       "      <td>Heikkinen, Miss. Laina</td>\n",
       "      <td>1</td>\n",
       "      <td>26.0</td>\n",
       "      <td>0</td>\n",
       "      <td>0</td>\n",
       "      <td>STON/O2. 3101282</td>\n",
       "      <td>7.9250</td>\n",
       "      <td>0</td>\n",
       "    </tr>\n",
       "    <tr>\n",
       "      <th>3</th>\n",
       "      <td>4</td>\n",
       "      <td>1</td>\n",
       "      <td>1</td>\n",
       "      <td>Futrelle, Mrs. Jacques Heath (Lily May Peel)</td>\n",
       "      <td>1</td>\n",
       "      <td>35.0</td>\n",
       "      <td>1</td>\n",
       "      <td>0</td>\n",
       "      <td>113803</td>\n",
       "      <td>53.1000</td>\n",
       "      <td>0</td>\n",
       "    </tr>\n",
       "    <tr>\n",
       "      <th>4</th>\n",
       "      <td>5</td>\n",
       "      <td>0</td>\n",
       "      <td>3</td>\n",
       "      <td>Allen, Mr. William Henry</td>\n",
       "      <td>0</td>\n",
       "      <td>35.0</td>\n",
       "      <td>0</td>\n",
       "      <td>0</td>\n",
       "      <td>373450</td>\n",
       "      <td>8.0500</td>\n",
       "      <td>0</td>\n",
       "    </tr>\n",
       "  </tbody>\n",
       "</table>\n",
       "</div>"
      ],
      "text/plain": [
       "   PassengerId  Survived  Pclass  \\\n",
       "0            1         0       3   \n",
       "1            2         1       1   \n",
       "2            3         1       3   \n",
       "3            4         1       1   \n",
       "4            5         0       3   \n",
       "\n",
       "                                                Name  Sex   Age  SibSp  Parch  \\\n",
       "0                            Braund, Mr. Owen Harris    0  22.0      1      0   \n",
       "1  Cumings, Mrs. John Bradley (Florence Briggs Th...    1  38.0      1      0   \n",
       "2                             Heikkinen, Miss. Laina    1  26.0      0      0   \n",
       "3       Futrelle, Mrs. Jacques Heath (Lily May Peel)    1  35.0      1      0   \n",
       "4                           Allen, Mr. William Henry    0  35.0      0      0   \n",
       "\n",
       "             Ticket     Fare  Embarked  \n",
       "0         A/5 21171   7.2500         0  \n",
       "1          PC 17599  71.2833         1  \n",
       "2  STON/O2. 3101282   7.9250         0  \n",
       "3            113803  53.1000         0  \n",
       "4            373450   8.0500         0  "
      ]
     },
     "execution_count": 25,
     "metadata": {},
     "output_type": "execute_result"
    }
   ],
   "source": [
    "train_data.head()"
   ]
  },
  {
   "cell_type": "code",
   "execution_count": 26,
   "id": "21a307e3",
   "metadata": {
    "execution": {
     "iopub.execute_input": "2023-06-30T14:49:00.005124Z",
     "iopub.status.busy": "2023-06-30T14:49:00.004352Z",
     "iopub.status.idle": "2023-06-30T14:49:00.013370Z",
     "shell.execute_reply": "2023-06-30T14:49:00.012184Z"
    },
    "papermill": {
     "duration": 0.032989,
     "end_time": "2023-06-30T14:49:00.016908",
     "exception": false,
     "start_time": "2023-06-30T14:48:59.983919",
     "status": "completed"
    },
    "tags": []
   },
   "outputs": [],
   "source": [
    "X = train_data.drop(columns = ['Name','Ticket','Survived'],axis=1)\n",
    "Y = train_data['Survived']"
   ]
  },
  {
   "cell_type": "code",
   "execution_count": 27,
   "id": "9da011e8",
   "metadata": {
    "execution": {
     "iopub.execute_input": "2023-06-30T14:49:00.055722Z",
     "iopub.status.busy": "2023-06-30T14:49:00.055315Z",
     "iopub.status.idle": "2023-06-30T14:49:00.064437Z",
     "shell.execute_reply": "2023-06-30T14:49:00.063106Z"
    },
    "papermill": {
     "duration": 0.032356,
     "end_time": "2023-06-30T14:49:00.067731",
     "exception": false,
     "start_time": "2023-06-30T14:49:00.035375",
     "status": "completed"
    },
    "tags": []
   },
   "outputs": [],
   "source": [
    "X_train, X_test, Y_train, Y_test = train_test_split(X,Y, test_size=0.2, random_state=1)"
   ]
  },
  {
   "cell_type": "code",
   "execution_count": 28,
   "id": "3f001013",
   "metadata": {
    "execution": {
     "iopub.execute_input": "2023-06-30T14:49:00.107691Z",
     "iopub.status.busy": "2023-06-30T14:49:00.107272Z",
     "iopub.status.idle": "2023-06-30T14:49:00.113345Z",
     "shell.execute_reply": "2023-06-30T14:49:00.112086Z"
    },
    "papermill": {
     "duration": 0.029525,
     "end_time": "2023-06-30T14:49:00.115864",
     "exception": false,
     "start_time": "2023-06-30T14:49:00.086339",
     "status": "completed"
    },
    "tags": []
   },
   "outputs": [
    {
     "name": "stdout",
     "output_type": "stream",
     "text": [
      "(891, 8) (712, 8) (179, 8)\n"
     ]
    }
   ],
   "source": [
    "print(X.shape, X_train.shape, X_test.shape)"
   ]
  },
  {
   "cell_type": "code",
   "execution_count": 29,
   "id": "a44d8518",
   "metadata": {
    "execution": {
     "iopub.execute_input": "2023-06-30T14:49:00.157826Z",
     "iopub.status.busy": "2023-06-30T14:49:00.157422Z",
     "iopub.status.idle": "2023-06-30T14:49:00.162289Z",
     "shell.execute_reply": "2023-06-30T14:49:00.161331Z"
    },
    "papermill": {
     "duration": 0.030118,
     "end_time": "2023-06-30T14:49:00.164928",
     "exception": false,
     "start_time": "2023-06-30T14:49:00.134810",
     "status": "completed"
    },
    "tags": []
   },
   "outputs": [],
   "source": [
    "model = LogisticRegression()"
   ]
  },
  {
   "cell_type": "code",
   "execution_count": 30,
   "id": "15baefcd",
   "metadata": {
    "execution": {
     "iopub.execute_input": "2023-06-30T14:49:00.204215Z",
     "iopub.status.busy": "2023-06-30T14:49:00.203800Z",
     "iopub.status.idle": "2023-06-30T14:49:00.265000Z",
     "shell.execute_reply": "2023-06-30T14:49:00.263498Z"
    },
    "papermill": {
     "duration": 0.08588,
     "end_time": "2023-06-30T14:49:00.269475",
     "exception": false,
     "start_time": "2023-06-30T14:49:00.183595",
     "status": "completed"
    },
    "tags": []
   },
   "outputs": [
    {
     "name": "stderr",
     "output_type": "stream",
     "text": [
      "/opt/conda/lib/python3.10/site-packages/sklearn/linear_model/_logistic.py:458: ConvergenceWarning: lbfgs failed to converge (status=1):\n",
      "STOP: TOTAL NO. of ITERATIONS REACHED LIMIT.\n",
      "\n",
      "Increase the number of iterations (max_iter) or scale the data as shown in:\n",
      "    https://scikit-learn.org/stable/modules/preprocessing.html\n",
      "Please also refer to the documentation for alternative solver options:\n",
      "    https://scikit-learn.org/stable/modules/linear_model.html#logistic-regression\n",
      "  n_iter_i = _check_optimize_result(\n"
     ]
    },
    {
     "data": {
      "text/html": [
       "<style>#sk-container-id-1 {color: black;background-color: white;}#sk-container-id-1 pre{padding: 0;}#sk-container-id-1 div.sk-toggleable {background-color: white;}#sk-container-id-1 label.sk-toggleable__label {cursor: pointer;display: block;width: 100%;margin-bottom: 0;padding: 0.3em;box-sizing: border-box;text-align: center;}#sk-container-id-1 label.sk-toggleable__label-arrow:before {content: \"▸\";float: left;margin-right: 0.25em;color: #696969;}#sk-container-id-1 label.sk-toggleable__label-arrow:hover:before {color: black;}#sk-container-id-1 div.sk-estimator:hover label.sk-toggleable__label-arrow:before {color: black;}#sk-container-id-1 div.sk-toggleable__content {max-height: 0;max-width: 0;overflow: hidden;text-align: left;background-color: #f0f8ff;}#sk-container-id-1 div.sk-toggleable__content pre {margin: 0.2em;color: black;border-radius: 0.25em;background-color: #f0f8ff;}#sk-container-id-1 input.sk-toggleable__control:checked~div.sk-toggleable__content {max-height: 200px;max-width: 100%;overflow: auto;}#sk-container-id-1 input.sk-toggleable__control:checked~label.sk-toggleable__label-arrow:before {content: \"▾\";}#sk-container-id-1 div.sk-estimator input.sk-toggleable__control:checked~label.sk-toggleable__label {background-color: #d4ebff;}#sk-container-id-1 div.sk-label input.sk-toggleable__control:checked~label.sk-toggleable__label {background-color: #d4ebff;}#sk-container-id-1 input.sk-hidden--visually {border: 0;clip: rect(1px 1px 1px 1px);clip: rect(1px, 1px, 1px, 1px);height: 1px;margin: -1px;overflow: hidden;padding: 0;position: absolute;width: 1px;}#sk-container-id-1 div.sk-estimator {font-family: monospace;background-color: #f0f8ff;border: 1px dotted black;border-radius: 0.25em;box-sizing: border-box;margin-bottom: 0.5em;}#sk-container-id-1 div.sk-estimator:hover {background-color: #d4ebff;}#sk-container-id-1 div.sk-parallel-item::after {content: \"\";width: 100%;border-bottom: 1px solid gray;flex-grow: 1;}#sk-container-id-1 div.sk-label:hover label.sk-toggleable__label {background-color: #d4ebff;}#sk-container-id-1 div.sk-serial::before {content: \"\";position: absolute;border-left: 1px solid gray;box-sizing: border-box;top: 0;bottom: 0;left: 50%;z-index: 0;}#sk-container-id-1 div.sk-serial {display: flex;flex-direction: column;align-items: center;background-color: white;padding-right: 0.2em;padding-left: 0.2em;position: relative;}#sk-container-id-1 div.sk-item {position: relative;z-index: 1;}#sk-container-id-1 div.sk-parallel {display: flex;align-items: stretch;justify-content: center;background-color: white;position: relative;}#sk-container-id-1 div.sk-item::before, #sk-container-id-1 div.sk-parallel-item::before {content: \"\";position: absolute;border-left: 1px solid gray;box-sizing: border-box;top: 0;bottom: 0;left: 50%;z-index: -1;}#sk-container-id-1 div.sk-parallel-item {display: flex;flex-direction: column;z-index: 1;position: relative;background-color: white;}#sk-container-id-1 div.sk-parallel-item:first-child::after {align-self: flex-end;width: 50%;}#sk-container-id-1 div.sk-parallel-item:last-child::after {align-self: flex-start;width: 50%;}#sk-container-id-1 div.sk-parallel-item:only-child::after {width: 0;}#sk-container-id-1 div.sk-dashed-wrapped {border: 1px dashed gray;margin: 0 0.4em 0.5em 0.4em;box-sizing: border-box;padding-bottom: 0.4em;background-color: white;}#sk-container-id-1 div.sk-label label {font-family: monospace;font-weight: bold;display: inline-block;line-height: 1.2em;}#sk-container-id-1 div.sk-label-container {text-align: center;}#sk-container-id-1 div.sk-container {/* jupyter's `normalize.less` sets `[hidden] { display: none; }` but bootstrap.min.css set `[hidden] { display: none !important; }` so we also need the `!important` here to be able to override the default hidden behavior on the sphinx rendered scikit-learn.org. See: https://github.com/scikit-learn/scikit-learn/issues/21755 */display: inline-block !important;position: relative;}#sk-container-id-1 div.sk-text-repr-fallback {display: none;}</style><div id=\"sk-container-id-1\" class=\"sk-top-container\"><div class=\"sk-text-repr-fallback\"><pre>LogisticRegression()</pre><b>In a Jupyter environment, please rerun this cell to show the HTML representation or trust the notebook. <br />On GitHub, the HTML representation is unable to render, please try loading this page with nbviewer.org.</b></div><div class=\"sk-container\" hidden><div class=\"sk-item\"><div class=\"sk-estimator sk-toggleable\"><input class=\"sk-toggleable__control sk-hidden--visually\" id=\"sk-estimator-id-1\" type=\"checkbox\" checked><label for=\"sk-estimator-id-1\" class=\"sk-toggleable__label sk-toggleable__label-arrow\">LogisticRegression</label><div class=\"sk-toggleable__content\"><pre>LogisticRegression()</pre></div></div></div></div></div>"
      ],
      "text/plain": [
       "LogisticRegression()"
      ]
     },
     "execution_count": 30,
     "metadata": {},
     "output_type": "execute_result"
    }
   ],
   "source": [
    "model.fit(X_train, Y_train)"
   ]
  },
  {
   "cell_type": "code",
   "execution_count": 31,
   "id": "3898e804",
   "metadata": {
    "execution": {
     "iopub.execute_input": "2023-06-30T14:49:00.311448Z",
     "iopub.status.busy": "2023-06-30T14:49:00.311074Z",
     "iopub.status.idle": "2023-06-30T14:49:00.319572Z",
     "shell.execute_reply": "2023-06-30T14:49:00.318008Z"
    },
    "papermill": {
     "duration": 0.032823,
     "end_time": "2023-06-30T14:49:00.322762",
     "exception": false,
     "start_time": "2023-06-30T14:49:00.289939",
     "status": "completed"
    },
    "tags": []
   },
   "outputs": [],
   "source": [
    "X_train_prediction = model.predict(X_train)"
   ]
  },
  {
   "cell_type": "code",
   "execution_count": 32,
   "id": "974510e4",
   "metadata": {
    "execution": {
     "iopub.execute_input": "2023-06-30T14:49:00.363641Z",
     "iopub.status.busy": "2023-06-30T14:49:00.363252Z",
     "iopub.status.idle": "2023-06-30T14:49:00.372753Z",
     "shell.execute_reply": "2023-06-30T14:49:00.371133Z"
    },
    "papermill": {
     "duration": 0.033855,
     "end_time": "2023-06-30T14:49:00.376135",
     "exception": false,
     "start_time": "2023-06-30T14:49:00.342280",
     "status": "completed"
    },
    "tags": []
   },
   "outputs": [
    {
     "name": "stdout",
     "output_type": "stream",
     "text": [
      "[0 1 1 0 0 1 0 0 1 0 1 0 0 1 1 1 1 0 1 0 0 0 1 0 0 0 1 1 0 0 0 1 0 0 0 0 0\n",
      " 0 1 1 0 0 0 0 0 0 0 1 1 1 0 0 0 0 0 0 1 1 1 1 0 0 0 0 0 0 0 1 1 0 1 0 0 0\n",
      " 1 1 1 0 1 0 1 1 0 1 1 0 0 1 0 1 1 0 0 0 0 0 0 1 1 1 0 0 0 1 0 0 0 1 0 1 0\n",
      " 0 0 1 0 0 1 1 1 1 0 1 0 1 1 0 0 1 0 1 0 0 0 1 0 1 1 1 0 0 0 0 0 0 0 0 0 1\n",
      " 1 0 0 1 0 0 1 0 0 0 1 1 1 0 0 0 0 0 0 1 0 1 0 1 0 0 0 1 0 0 0 0 0 0 1 0 1\n",
      " 0 0 0 0 0 0 1 1 1 1 0 0 0 0 0 0 1 0 1 0 0 0 1 0 1 0 0 0 0 1 0 1 1 1 0 0 0\n",
      " 0 0 1 0 0 0 0 0 0 0 1 0 0 1 0 1 0 1 1 1 0 0 0 0 1 1 0 0 0 0 0 1 0 1 0 1 1\n",
      " 0 0 0 0 1 1 0 0 1 0 1 1 0 1 0 1 0 0 0 1 1 1 0 1 0 0 0 0 0 0 1 0 0 0 0 1 0\n",
      " 0 0 0 1 1 0 0 0 1 1 1 0 1 1 0 1 1 1 1 0 1 1 0 1 1 1 0 1 1 0 0 0 0 0 1 0 0\n",
      " 1 1 1 0 1 0 0 0 1 1 0 0 1 0 0 0 0 0 0 0 0 0 0 0 0 0 0 0 1 0 0 0 0 0 0 0 0\n",
      " 1 0 0 0 0 0 0 0 0 1 0 1 1 0 0 1 0 0 0 0 0 1 0 1 1 0 1 0 0 0 1 0 0 0 1 1 1\n",
      " 0 1 0 1 0 0 1 0 0 0 1 0 0 0 1 1 0 1 0 1 0 0 0 1 0 0 1 0 0 1 0 1 1 0 0 1 0\n",
      " 1 0 0 0 0 0 0 0 0 1 0 0 1 1 0 1 0 0 1 1 0 0 1 0 0 1 0 0 0 0 1 1 0 1 0 0 1\n",
      " 1 1 1 1 0 1 1 0 0 1 0 0 0 0 0 0 1 0 1 0 0 0 0 0 0 0 1 0 1 0 0 1 0 0 0 1 0\n",
      " 1 0 0 0 0 0 1 1 0 0 0 0 0 0 0 0 1 1 1 0 0 0 0 0 0 0 0 0 1 0 0 0 0 0 0 0 0\n",
      " 0 0 1 1 1 0 1 0 0 1 0 0 0 0 0 0 0 0 0 1 1 0 0 0 0 1 1 1 0 0 1 0 0 0 0 0 0\n",
      " 1 0 0 0 0 0 0 0 0 0 1 1 1 0 0 0 1 0 0 1 1 0 1 0 0 0 1 0 0 0 0 0 0 0 0 1 0\n",
      " 0 0 1 1 0 0 0 1 1 0 0 0 0 0 1 0 0 0 1 0 1 0 0 1 0 0 1 0 0 0 1 0 0 1 0 0 0\n",
      " 0 0 1 1 0 1 0 1 1 0 1 1 1 0 1 1 0 0 1 0 1 1 0 0 0 0 0 0 1 1 0 0 0 0 0 0 0\n",
      " 0 0 0 0 0 1 0 1 0]\n"
     ]
    }
   ],
   "source": [
    "print(X_train_prediction)"
   ]
  },
  {
   "cell_type": "code",
   "execution_count": 33,
   "id": "a05ec2df",
   "metadata": {
    "execution": {
     "iopub.execute_input": "2023-06-30T14:49:00.417991Z",
     "iopub.status.busy": "2023-06-30T14:49:00.417207Z",
     "iopub.status.idle": "2023-06-30T14:49:00.425650Z",
     "shell.execute_reply": "2023-06-30T14:49:00.424051Z"
    },
    "papermill": {
     "duration": 0.032338,
     "end_time": "2023-06-30T14:49:00.428327",
     "exception": false,
     "start_time": "2023-06-30T14:49:00.395989",
     "status": "completed"
    },
    "tags": []
   },
   "outputs": [
    {
     "name": "stdout",
     "output_type": "stream",
     "text": [
      "Accuracy score of training data :  0.7963483146067416\n"
     ]
    }
   ],
   "source": [
    "training_data_accuracy = accuracy_score(Y_train, X_train_prediction)\n",
    "print('Accuracy score of training data : ', training_data_accuracy)"
   ]
  },
  {
   "cell_type": "code",
   "execution_count": 34,
   "id": "10f81bbd",
   "metadata": {
    "execution": {
     "iopub.execute_input": "2023-06-30T14:49:00.470333Z",
     "iopub.status.busy": "2023-06-30T14:49:00.469340Z",
     "iopub.status.idle": "2023-06-30T14:49:00.477376Z",
     "shell.execute_reply": "2023-06-30T14:49:00.476021Z"
    },
    "papermill": {
     "duration": 0.032919,
     "end_time": "2023-06-30T14:49:00.480651",
     "exception": false,
     "start_time": "2023-06-30T14:49:00.447732",
     "status": "completed"
    },
    "tags": []
   },
   "outputs": [],
   "source": [
    "X_test_prediction = model.predict(X_test)"
   ]
  },
  {
   "cell_type": "code",
   "execution_count": 35,
   "id": "1dc11aa4",
   "metadata": {
    "execution": {
     "iopub.execute_input": "2023-06-30T14:49:00.521999Z",
     "iopub.status.busy": "2023-06-30T14:49:00.521274Z",
     "iopub.status.idle": "2023-06-30T14:49:00.527653Z",
     "shell.execute_reply": "2023-06-30T14:49:00.526384Z"
    },
    "papermill": {
     "duration": 0.030301,
     "end_time": "2023-06-30T14:49:00.530354",
     "exception": false,
     "start_time": "2023-06-30T14:49:00.500053",
     "status": "completed"
    },
    "tags": []
   },
   "outputs": [
    {
     "name": "stdout",
     "output_type": "stream",
     "text": [
      "[1 0 1 1 1 0 0 1 0 1 0 1 0 0 1 0 0 0 0 1 0 0 1 0 1 0 1 1 0 1 1 0 1 1 0 0 0\n",
      " 0 0 0 1 1 1 0 1 0 0 0 1 0 0 1 0 0 0 0 0 0 0 1 0 0 0 0 0 1 0 0 1 0 0 0 0 0\n",
      " 1 0 1 0 0 1 0 0 0 0 1 0 0 0 0 1 0 0 0 1 0 0 0 1 0 0 1 0 0 1 1 0 0 0 0 0 0\n",
      " 0 0 0 0 0 0 0 1 1 1 0 0 0 1 1 1 1 0 0 0 0 1 1 0 1 1 0 0 1 1 0 1 1 0 1 0 0\n",
      " 1 0 1 0 0 1 0 0 0 0 1 0 0 0 1 0 0 1 1 0 0 0 1 0 1 0 1 0 0 0 1]\n"
     ]
    }
   ],
   "source": [
    "print(X_test_prediction)"
   ]
  },
  {
   "cell_type": "code",
   "execution_count": 36,
   "id": "27f53487",
   "metadata": {
    "execution": {
     "iopub.execute_input": "2023-06-30T14:49:00.570824Z",
     "iopub.status.busy": "2023-06-30T14:49:00.569771Z",
     "iopub.status.idle": "2023-06-30T14:49:00.576969Z",
     "shell.execute_reply": "2023-06-30T14:49:00.575877Z"
    },
    "papermill": {
     "duration": 0.030442,
     "end_time": "2023-06-30T14:49:00.579740",
     "exception": false,
     "start_time": "2023-06-30T14:49:00.549298",
     "status": "completed"
    },
    "tags": []
   },
   "outputs": [
    {
     "name": "stdout",
     "output_type": "stream",
     "text": [
      "Accuracy score of testing data :  0.7877094972067039\n"
     ]
    }
   ],
   "source": [
    "testing_data_accuracy = accuracy_score(Y_test, X_test_prediction)\n",
    "print('Accuracy score of testing data : ', testing_data_accuracy)"
   ]
  },
  {
   "cell_type": "code",
   "execution_count": 37,
   "id": "25386c8e",
   "metadata": {
    "execution": {
     "iopub.execute_input": "2023-06-30T14:49:00.620404Z",
     "iopub.status.busy": "2023-06-30T14:49:00.618819Z",
     "iopub.status.idle": "2023-06-30T14:49:00.643506Z",
     "shell.execute_reply": "2023-06-30T14:49:00.642318Z"
    },
    "papermill": {
     "duration": 0.047269,
     "end_time": "2023-06-30T14:49:00.646003",
     "exception": false,
     "start_time": "2023-06-30T14:49:00.598734",
     "status": "completed"
    },
    "tags": []
   },
   "outputs": [
    {
     "data": {
      "text/plain": [
       "PassengerId     0\n",
       "Pclass          0\n",
       "Sex             0\n",
       "Age            86\n",
       "SibSp           0\n",
       "Parch           0\n",
       "Fare            1\n",
       "Embarked        0\n",
       "dtype: int64"
      ]
     },
     "execution_count": 37,
     "metadata": {},
     "output_type": "execute_result"
    }
   ],
   "source": [
    "test_data=pd.read_csv('/kaggle/input/titanic/test.csv')\n",
    "test_data.drop(['Name','Ticket','Cabin'],axis=1,inplace=True)\n",
    "test_data.replace({'male':0,'female':1},inplace=True)\n",
    "\n",
    "test_data.isnull().sum()"
   ]
  },
  {
   "cell_type": "code",
   "execution_count": 38,
   "id": "fb4c9500",
   "metadata": {
    "execution": {
     "iopub.execute_input": "2023-06-30T14:49:00.686003Z",
     "iopub.status.busy": "2023-06-30T14:49:00.685228Z",
     "iopub.status.idle": "2023-06-30T14:49:00.694125Z",
     "shell.execute_reply": "2023-06-30T14:49:00.693128Z"
    },
    "papermill": {
     "duration": 0.031614,
     "end_time": "2023-06-30T14:49:00.696579",
     "exception": false,
     "start_time": "2023-06-30T14:49:00.664965",
     "status": "completed"
    },
    "tags": []
   },
   "outputs": [
    {
     "data": {
      "text/plain": [
       "0    646\n",
       "1    168\n",
       "2     77\n",
       "Name: Embarked, dtype: int64"
      ]
     },
     "execution_count": 38,
     "metadata": {},
     "output_type": "execute_result"
    }
   ],
   "source": [
    "train_data['Embarked'].value_counts()"
   ]
  },
  {
   "cell_type": "code",
   "execution_count": 39,
   "id": "c77b99b5",
   "metadata": {
    "execution": {
     "iopub.execute_input": "2023-06-30T14:49:00.736887Z",
     "iopub.status.busy": "2023-06-30T14:49:00.736091Z",
     "iopub.status.idle": "2023-06-30T14:49:00.749518Z",
     "shell.execute_reply": "2023-06-30T14:49:00.748133Z"
    },
    "papermill": {
     "duration": 0.036978,
     "end_time": "2023-06-30T14:49:00.752609",
     "exception": false,
     "start_time": "2023-06-30T14:49:00.715631",
     "status": "completed"
    },
    "tags": []
   },
   "outputs": [
    {
     "data": {
      "text/plain": [
       "PassengerId    0\n",
       "Pclass         0\n",
       "Sex            0\n",
       "Age            0\n",
       "SibSp          0\n",
       "Parch          0\n",
       "Fare           0\n",
       "Embarked       0\n",
       "dtype: int64"
      ]
     },
     "execution_count": 39,
     "metadata": {},
     "output_type": "execute_result"
    }
   ],
   "source": [
    "test_data['Age']=test_data['Age'].fillna(test_data['Age'].mean())\n",
    "test_data['Fare']=test_data['Fare'].fillna(test_data['Fare'].mean())\n",
    "test_data.isnull().sum()"
   ]
  },
  {
   "cell_type": "code",
   "execution_count": 40,
   "id": "cafd89d0",
   "metadata": {
    "execution": {
     "iopub.execute_input": "2023-06-30T14:49:00.795293Z",
     "iopub.status.busy": "2023-06-30T14:49:00.794374Z",
     "iopub.status.idle": "2023-06-30T14:49:00.803661Z",
     "shell.execute_reply": "2023-06-30T14:49:00.801650Z"
    },
    "papermill": {
     "duration": 0.033784,
     "end_time": "2023-06-30T14:49:00.807233",
     "exception": false,
     "start_time": "2023-06-30T14:49:00.773449",
     "status": "completed"
    },
    "tags": []
   },
   "outputs": [],
   "source": [
    "test_data.replace({ 'Embarked':{'S':0,'C':1,'Q':2}}, inplace=True)"
   ]
  },
  {
   "cell_type": "code",
   "execution_count": 41,
   "id": "13a2052c",
   "metadata": {
    "execution": {
     "iopub.execute_input": "2023-06-30T14:49:00.846927Z",
     "iopub.status.busy": "2023-06-30T14:49:00.846529Z",
     "iopub.status.idle": "2023-06-30T14:49:00.863154Z",
     "shell.execute_reply": "2023-06-30T14:49:00.861471Z"
    },
    "papermill": {
     "duration": 0.039395,
     "end_time": "2023-06-30T14:49:00.865572",
     "exception": false,
     "start_time": "2023-06-30T14:49:00.826177",
     "status": "completed"
    },
    "tags": []
   },
   "outputs": [
    {
     "data": {
      "text/html": [
       "<div>\n",
       "<style scoped>\n",
       "    .dataframe tbody tr th:only-of-type {\n",
       "        vertical-align: middle;\n",
       "    }\n",
       "\n",
       "    .dataframe tbody tr th {\n",
       "        vertical-align: top;\n",
       "    }\n",
       "\n",
       "    .dataframe thead th {\n",
       "        text-align: right;\n",
       "    }\n",
       "</style>\n",
       "<table border=\"1\" class=\"dataframe\">\n",
       "  <thead>\n",
       "    <tr style=\"text-align: right;\">\n",
       "      <th></th>\n",
       "      <th>PassengerId</th>\n",
       "      <th>Pclass</th>\n",
       "      <th>Sex</th>\n",
       "      <th>Age</th>\n",
       "      <th>SibSp</th>\n",
       "      <th>Parch</th>\n",
       "      <th>Fare</th>\n",
       "      <th>Embarked</th>\n",
       "    </tr>\n",
       "  </thead>\n",
       "  <tbody>\n",
       "    <tr>\n",
       "      <th>0</th>\n",
       "      <td>892</td>\n",
       "      <td>3</td>\n",
       "      <td>0</td>\n",
       "      <td>34.5</td>\n",
       "      <td>0</td>\n",
       "      <td>0</td>\n",
       "      <td>7.8292</td>\n",
       "      <td>2</td>\n",
       "    </tr>\n",
       "    <tr>\n",
       "      <th>1</th>\n",
       "      <td>893</td>\n",
       "      <td>3</td>\n",
       "      <td>1</td>\n",
       "      <td>47.0</td>\n",
       "      <td>1</td>\n",
       "      <td>0</td>\n",
       "      <td>7.0000</td>\n",
       "      <td>0</td>\n",
       "    </tr>\n",
       "    <tr>\n",
       "      <th>2</th>\n",
       "      <td>894</td>\n",
       "      <td>2</td>\n",
       "      <td>0</td>\n",
       "      <td>62.0</td>\n",
       "      <td>0</td>\n",
       "      <td>0</td>\n",
       "      <td>9.6875</td>\n",
       "      <td>2</td>\n",
       "    </tr>\n",
       "    <tr>\n",
       "      <th>3</th>\n",
       "      <td>895</td>\n",
       "      <td>3</td>\n",
       "      <td>0</td>\n",
       "      <td>27.0</td>\n",
       "      <td>0</td>\n",
       "      <td>0</td>\n",
       "      <td>8.6625</td>\n",
       "      <td>0</td>\n",
       "    </tr>\n",
       "    <tr>\n",
       "      <th>4</th>\n",
       "      <td>896</td>\n",
       "      <td>3</td>\n",
       "      <td>1</td>\n",
       "      <td>22.0</td>\n",
       "      <td>1</td>\n",
       "      <td>1</td>\n",
       "      <td>12.2875</td>\n",
       "      <td>0</td>\n",
       "    </tr>\n",
       "  </tbody>\n",
       "</table>\n",
       "</div>"
      ],
      "text/plain": [
       "   PassengerId  Pclass  Sex   Age  SibSp  Parch     Fare  Embarked\n",
       "0          892       3    0  34.5      0      0   7.8292         2\n",
       "1          893       3    1  47.0      1      0   7.0000         0\n",
       "2          894       2    0  62.0      0      0   9.6875         2\n",
       "3          895       3    0  27.0      0      0   8.6625         0\n",
       "4          896       3    1  22.0      1      1  12.2875         0"
      ]
     },
     "execution_count": 41,
     "metadata": {},
     "output_type": "execute_result"
    }
   ],
   "source": [
    "test_data.head()"
   ]
  },
  {
   "cell_type": "code",
   "execution_count": 42,
   "id": "fe5604dc",
   "metadata": {
    "execution": {
     "iopub.execute_input": "2023-06-30T14:49:00.910804Z",
     "iopub.status.busy": "2023-06-30T14:49:00.909784Z",
     "iopub.status.idle": "2023-06-30T14:49:00.916947Z",
     "shell.execute_reply": "2023-06-30T14:49:00.915978Z"
    },
    "papermill": {
     "duration": 0.032989,
     "end_time": "2023-06-30T14:49:00.920136",
     "exception": false,
     "start_time": "2023-06-30T14:49:00.887147",
     "status": "completed"
    },
    "tags": []
   },
   "outputs": [],
   "source": [
    "test_prediction = model.predict(test_data)"
   ]
  },
  {
   "cell_type": "code",
   "execution_count": 43,
   "id": "64968a90",
   "metadata": {
    "execution": {
     "iopub.execute_input": "2023-06-30T14:49:00.965227Z",
     "iopub.status.busy": "2023-06-30T14:49:00.964759Z",
     "iopub.status.idle": "2023-06-30T14:49:00.973302Z",
     "shell.execute_reply": "2023-06-30T14:49:00.971430Z"
    },
    "papermill": {
     "duration": 0.035517,
     "end_time": "2023-06-30T14:49:00.977161",
     "exception": false,
     "start_time": "2023-06-30T14:49:00.941644",
     "status": "completed"
    },
    "tags": []
   },
   "outputs": [
    {
     "name": "stdout",
     "output_type": "stream",
     "text": [
      "[0 0 0 0 1 0 1 0 1 0 0 0 1 0 1 1 0 0 1 1 0 0 1 1 1 0 1 0 0 0 0 0 1 1 0 0 1\n",
      " 1 0 0 0 1 0 1 1 0 0 0 1 1 1 0 1 1 0 0 0 0 0 1 0 0 0 1 1 1 1 0 1 1 1 0 1 1\n",
      " 1 1 0 1 0 1 0 0 0 0 0 0 1 1 1 0 1 0 1 0 1 0 1 0 1 0 1 0 0 0 1 0 0 0 0 0 0\n",
      " 1 1 1 1 0 0 1 1 1 1 0 1 0 0 1 0 1 0 0 0 0 1 0 0 0 0 0 1 0 0 1 1 0 0 0 1 0\n",
      " 1 0 1 0 0 1 0 0 1 1 0 1 1 0 1 0 0 1 0 0 1 1 0 0 0 0 0 1 1 0 1 1 0 1 1 0 1\n",
      " 0 1 0 0 0 0 1 0 0 1 0 1 1 0 1 1 0 1 1 0 1 1 0 1 0 0 0 0 1 0 0 1 0 1 0 1 0\n",
      " 1 0 1 1 0 1 0 0 0 1 0 0 0 0 0 0 1 1 1 1 1 0 0 0 1 0 1 1 1 0 1 0 0 0 0 0 1\n",
      " 0 0 0 1 1 0 0 1 0 1 0 1 0 1 1 0 1 0 0 0 0 1 0 1 1 1 0 0 1 0 0 1 1 0 0 0 0\n",
      " 1 0 1 0 0 0 0 0 1 1 1 0 0 0 0 0 0 1 1 1 0 0 0 0 0 0 0 1 1 0 1 1 0 0 1 1 0\n",
      " 1 0 1 0 0 0 0 0 0 0 1 0 1 0 1 0 1 1 0 0 0 1 0 1 0 0 1 0 1 1 0 1 1 0 1 1 0\n",
      " 0 1 0 0 1 1 1 0 0 0 0 0 1 1 0 1 0 0 0 0 1 1 0 0 0 1 0 1 0 0 1 0 1 1 0 0 0\n",
      " 1 1 1 1 1 1 0 1 0 0 0]\n"
     ]
    }
   ],
   "source": [
    "print (test_prediction)"
   ]
  },
  {
   "cell_type": "code",
   "execution_count": 44,
   "id": "d4ffe8e1",
   "metadata": {
    "execution": {
     "iopub.execute_input": "2023-06-30T14:49:01.023640Z",
     "iopub.status.busy": "2023-06-30T14:49:01.023246Z",
     "iopub.status.idle": "2023-06-30T14:49:01.042539Z",
     "shell.execute_reply": "2023-06-30T14:49:01.040437Z"
    },
    "papermill": {
     "duration": 0.046909,
     "end_time": "2023-06-30T14:49:01.045435",
     "exception": false,
     "start_time": "2023-06-30T14:49:00.998526",
     "status": "completed"
    },
    "tags": []
   },
   "outputs": [
    {
     "name": "stdout",
     "output_type": "stream",
     "text": [
      "     PassengerId  Survived\n",
      "0            892         0\n",
      "1            893         0\n",
      "2            894         0\n",
      "3            895         0\n",
      "4            896         1\n",
      "..           ...       ...\n",
      "413         1305         0\n",
      "414         1306         1\n",
      "415         1307         0\n",
      "416         1308         0\n",
      "417         1309         0\n",
      "\n",
      "[418 rows x 2 columns]\n",
      "Your submission was successfully saved!\n"
     ]
    }
   ],
   "source": [
    "output = pd.DataFrame({'PassengerId': test_data['PassengerId'], 'Survived': test_prediction })\n",
    "print(output)\n",
    "output.to_csv('submission.csv', index=False)\n",
    "print(\"Your submission was successfully saved!\")"
   ]
  },
  {
   "cell_type": "code",
   "execution_count": null,
   "id": "b5002b94",
   "metadata": {
    "papermill": {
     "duration": 0.021353,
     "end_time": "2023-06-30T14:49:01.089639",
     "exception": false,
     "start_time": "2023-06-30T14:49:01.068286",
     "status": "completed"
    },
    "tags": []
   },
   "outputs": [],
   "source": []
  }
 ],
 "metadata": {
  "kernelspec": {
   "display_name": "Python 3",
   "language": "python",
   "name": "python3"
  },
  "language_info": {
   "codemirror_mode": {
    "name": "ipython",
    "version": 3
   },
   "file_extension": ".py",
   "mimetype": "text/x-python",
   "name": "python",
   "nbconvert_exporter": "python",
   "pygments_lexer": "ipython3",
   "version": "3.10.10"
  },
  "papermill": {
   "default_parameters": {},
   "duration": 25.145874,
   "end_time": "2023-06-30T14:49:03.417386",
   "environment_variables": {},
   "exception": null,
   "input_path": "__notebook__.ipynb",
   "output_path": "__notebook__.ipynb",
   "parameters": {},
   "start_time": "2023-06-30T14:48:38.271512",
   "version": "2.4.0"
  }
 },
 "nbformat": 4,
 "nbformat_minor": 5
}
